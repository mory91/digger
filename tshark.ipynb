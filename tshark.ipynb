{
 "cells": [
  {
   "cell_type": "code",
   "execution_count": 108,
   "metadata": {},
   "outputs": [],
   "source": [
    "from scapy.utils import RawPcapReader\n",
    "from scapy.layers.l2 import Ether\n",
    "from scapy.layers.inet import IP, TCP\n",
    "\n",
    "from tqdm.notebook import tqdm"
   ]
  },
  {
   "cell_type": "code",
   "execution_count": 109,
   "metadata": {},
   "outputs": [],
   "source": [
    "from enum import Enum"
   ]
  },
  {
   "cell_type": "code",
   "execution_count": 110,
   "metadata": {},
   "outputs": [],
   "source": [
    "class PktDirection(Enum):\n",
    "    not_defined = 0\n",
    "    client_to_server = 1\n",
    "    server_to_client = 2"
   ]
  },
  {
   "cell_type": "code",
   "execution_count": 111,
   "metadata": {},
   "outputs": [],
   "source": [
    "def process_pcap(pcap_file_in):\n",
    "    pkts = {}\n",
    "    client_port = '2222'\n",
    "    server_port = '2223'\n",
    "    times = []\n",
    "    resols = []\n",
    "    sizes = []\n",
    "    ip_srcs = []\n",
    "    ip_dsts = []\n",
    "    for (pkt_data, pkt_metadata,) in RawPcapReader(pcap_file_in):\n",
    "        ether_pkt = Ether(pkt_data)\n",
    "        if 'type' not in ether_pkt.fields:\n",
    "            continue\n",
    "        if ether_pkt.type != 0x0800:\n",
    "            continue\n",
    "        ip_pkt = ether_pkt[IP]\n",
    "        if ip_pkt.proto != 6:\n",
    "            continue\n",
    "        tcp_pkt = ip_pkt[TCP]\n",
    "        if (tcp_pkt.sport not in (int(client_port), int(server_port))) and (tcp_pkt.dport not in (int(client_port), int(server_port))):\n",
    "            continue\n",
    "        last_pkt_timestamp = (pkt_metadata.tshigh << 32) | pkt_metadata.tslow\n",
    "        last_pkt_timestamp_resolution = pkt_metadata.tsresol\n",
    "        tcp_payload_len = ip_pkt.len - (ip_pkt.ihl * 4) - (tcp_pkt.dataofs * 4)\n",
    "        pkt_data = {}\n",
    "        times.append(last_pkt_timestamp)\n",
    "        resols.append(last_pkt_timestamp_resolution)\n",
    "        sizes.append(tcp_payload_len)\n",
    "        ip_srcs.append(ip_pkt.src)\n",
    "        ip_dsts.append(ip_pkt.dst)\n",
    "    pkts = {'timestamp': times, 'val': sizes, 'resol': resols, 'src': ip_srcs, 'dst': ip_dsts}\n",
    "    return pkts"
   ]
  },
  {
   "cell_type": "code",
   "execution_count": 112,
   "metadata": {},
   "outputs": [],
   "source": [
    "pp = process_pcap('data/node-1/capture-output.pcap')"
   ]
  },
  {
   "cell_type": "code",
   "execution_count": 113,
   "metadata": {},
   "outputs": [],
   "source": [
    "import pandas as pd"
   ]
  },
  {
   "cell_type": "code",
   "execution_count": 114,
   "metadata": {},
   "outputs": [],
   "source": [
    "df = pd.DataFrame(pp).to_csv('tshark.csv', index=False)"
   ]
  },
  {
   "cell_type": "code",
   "execution_count": null,
   "metadata": {},
   "outputs": [],
   "source": []
  }
 ],
 "metadata": {
  "interpreter": {
   "hash": "2e27e19ca6a05df96a2b941e6f80a39c60cf0d4b0a98b67408d6945db8a91ff3"
  },
  "kernelspec": {
   "display_name": "Python 3.9.4 ('torch-test')",
   "language": "python",
   "name": "python3"
  },
  "language_info": {
   "codemirror_mode": {
    "name": "ipython",
    "version": 3
   },
   "file_extension": ".py",
   "mimetype": "text/x-python",
   "name": "python",
   "nbconvert_exporter": "python",
   "pygments_lexer": "ipython3",
   "version": "3.9.4"
  },
  "orig_nbformat": 4
 },
 "nbformat": 4,
 "nbformat_minor": 2
}
