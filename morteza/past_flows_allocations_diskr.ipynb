{
 "cells": [
  {
   "cell_type": "code",
   "execution_count": 1,
   "metadata": {},
   "outputs": [
    {
     "name": "stderr",
     "output_type": "stream",
     "text": [
      "/home/morteza/anaconda3/envs/torch-test/lib/python3.9/site-packages/xgboost/compat.py:36: FutureWarning: pandas.Int64Index is deprecated and will be removed from pandas in a future version. Use pandas.Index with the appropriate dtype instead.\n",
      "  from pandas import MultiIndex, Int64Index\n"
     ]
    }
   ],
   "source": [
    "import pandas as pd\n",
    "import numpy as np\n",
    "import matplotlib.pyplot as plt\n",
    "import xgboost\n",
    "from sklearn import preprocessing\n",
    "from sklearn import model_selection\n",
    "from sklearn import metrics\n",
    "\n",
    "import torch\n",
    "\n",
    "from trace_process import *\n",
    "\n",
    "TIME_DELTA = 500 * NANO_TO_MICRO\n",
    "BATCH_SIZE = 32\n",
    "MTU = 1514\n",
    "WINDOW_SIZE = 10"
   ]
  },
  {
   "cell_type": "code",
   "execution_count": 2,
   "metadata": {},
   "outputs": [],
   "source": [
    "total_recored = 3555634102\n",
    "skip = 0\n",
    "chunk = 200000000\n",
    "\n",
    "df = pd.read_csv(\n",
    "    \"../data/1/node-1/packets\", \n",
    "    sep='\\t', \n",
    "    lineterminator='\\n', \n",
    "    header=None,\n",
    "    index_col=False,\n",
    "    names=['timestamp', 'size', 'src', 'dest', 'dir'], \n",
    "    dtype={'size': \"int16\", 'src': \"category\", 'dest': \"category\", \"timestamp\": \"int64\", \"size\": \"int64\", \"dir\": \"int8\"},\n",
    "    skiprows=skip,\n",
    "    nrows=chunk\n",
    ")\n",
    "df = df[df['dir'] == 1][[\"timestamp\", \"size\"]]\n",
    "df = df.sort_values(by='timestamp')"
   ]
  },
  {
   "cell_type": "code",
   "execution_count": 3,
   "metadata": {},
   "outputs": [],
   "source": [
    "mem_df = pd.read_csv(\n",
    "    \"../data/1/node-1/allocations\", \n",
    "    sep='\\t', \n",
    "    lineterminator='\\n', \n",
    "    header=None,\n",
    "    index_col=False,\n",
    "    names=['timestamp', 'size'], \n",
    "    dtype={\"size\": \"float64\"}\n",
    ")\n",
    "\n",
    "mem_trace = mem_df.values"
   ]
  },
  {
   "cell_type": "code",
   "execution_count": 4,
   "metadata": {},
   "outputs": [],
   "source": [
    "tmp_mem = mem_trace[:, 1].reshape(-1, 1)\n",
    "tmp_mem = preprocessing.MinMaxScaler().fit_transform(tmp_mem)\n",
    "mem_trace[:, 1] = tmp_mem.reshape(-1)"
   ]
  },
  {
   "cell_type": "code",
   "execution_count": 5,
   "metadata": {},
   "outputs": [],
   "source": [
    "diskr_df = pd.read_csv(\n",
    "    \"../data/1/node-1/disk_read\", \n",
    "    sep='\\t', \n",
    "    lineterminator='\\n', \n",
    "    header=None,\n",
    "    index_col=False,\n",
    "    names=['timestamp', 'size'], \n",
    "    dtype={\"size\": \"float64\"}\n",
    ")\n",
    "\n",
    "diskr_trace = diskr_df.values"
   ]
  },
  {
   "cell_type": "code",
   "execution_count": 6,
   "metadata": {},
   "outputs": [],
   "source": [
    "tmp_diskr = diskr_trace[:, 1].reshape(-1, 1)\n",
    "tmp_diskr = preprocessing.MinMaxScaler().fit_transform(tmp_diskr)\n",
    "diskr_trace[:, 1] = tmp_diskr.reshape(-1)"
   ]
  },
  {
   "cell_type": "code",
   "execution_count": 7,
   "metadata": {},
   "outputs": [
    {
     "name": "stderr",
     "output_type": "stream",
     "text": [
      "/home/morteza/code/digger/morteza/trace_process.py:96: VisibleDeprecationWarning: Creating an ndarray from ragged nested sequences (which is a list-or-tuple of lists-or-tuples-or ndarrays with different lengths or shapes) is deprecated. If you meant to do this, you must specify 'dtype=object' when creating the ndarray.\n",
      "  flows_packets = np.array([value_trace[slice(*f)] for f in flows])\n",
      "/home/morteza/code/digger/morteza/trace_process.py:97: VisibleDeprecationWarning: Creating an ndarray from ragged nested sequences (which is a list-or-tuple of lists-or-tuples-or ndarrays with different lengths or shapes) is deprecated. If you meant to do this, you must specify 'dtype=object' when creating the ndarray.\n",
      "  flow_times = np.array([time_stamp[slice(*f)] for f in flows])\n"
     ]
    },
    {
     "name": "stdout",
     "output_type": "stream",
     "text": [
      "Number of flows:  1149184\n",
      "EM:  68526.0\n"
     ]
    }
   ],
   "source": [
    "trace = df.values\n",
    "flow_packets, flow_times, flow_sizes, flows_span = get_flow_trace_time(trace, TIME_DELTA)\n",
    "EM = np.median(flow_sizes)\n",
    "flow_sizes_transformed = flow_sizes.reshape(-1, 1)\n",
    "flow_sizes_transformed = preprocessing.MinMaxScaler().fit_transform(flow_sizes_transformed)\n",
    "flow_sizes_transformed = flow_sizes_transformed.reshape(-1)\n",
    "print(\"Number of flows: \", len(flow_sizes))\n",
    "print(\"EM: \", EM)"
   ]
  },
  {
   "cell_type": "code",
   "execution_count": 8,
   "metadata": {},
   "outputs": [],
   "source": [
    "labels = np.array([1.0 if f > EM else 0 for f in flow_sizes])\n",
    "labels = np.roll(labels, -1)\n",
    "labels = pd.DataFrame({'labels': labels})"
   ]
  },
  {
   "cell_type": "code",
   "execution_count": 9,
   "metadata": {},
   "outputs": [
    {
     "name": "stderr",
     "output_type": "stream",
     "text": [
      "/tmp/ipykernel_1275502/2075318320.py:4: VisibleDeprecationWarning: Creating an ndarray from ragged nested sequences (which is a list-or-tuple of lists-or-tuples-or ndarrays with different lengths or shapes) is deprecated. If you meant to do this, you must specify 'dtype=object' when creating the ndarray.\n",
      "  flows_mem_trace = np.array([mem_trace[:, 1][slice(*f)] for f in flows_mem_idx])\n"
     ]
    }
   ],
   "source": [
    "starts = np.searchsorted(mem_trace[:, 0], flows_span[:, 0])\n",
    "ends = np.searchsorted(mem_trace[:, 0], flows_span[:, 1])\n",
    "flows_mem_idx = np.column_stack((starts, ends))\n",
    "flows_mem_trace = np.array([mem_trace[:, 1][slice(*f)] for f in flows_mem_idx])"
   ]
  },
  {
   "cell_type": "code",
   "execution_count": 10,
   "metadata": {},
   "outputs": [
    {
     "name": "stderr",
     "output_type": "stream",
     "text": [
      "/tmp/ipykernel_1275502/263711617.py:4: VisibleDeprecationWarning: Creating an ndarray from ragged nested sequences (which is a list-or-tuple of lists-or-tuples-or ndarrays with different lengths or shapes) is deprecated. If you meant to do this, you must specify 'dtype=object' when creating the ndarray.\n",
      "  flows_diskr_trace = np.array([mem_trace[:, 1][slice(*f)] for f in flows_mem_idx])\n"
     ]
    }
   ],
   "source": [
    "starts = np.searchsorted(diskr_trace[:, 0], flows_span[:, 0])\n",
    "ends = np.searchsorted(diskr_trace[:, 0], flows_span[:, 1])\n",
    "flows_diskr_idx = np.column_stack((starts, ends))\n",
    "flows_diskr_trace = np.array([mem_trace[:, 1][slice(*f)] for f in flows_mem_idx])"
   ]
  },
  {
   "cell_type": "code",
   "execution_count": 11,
   "metadata": {},
   "outputs": [],
   "source": [
    "dataset = pd.DataFrame({\"flow\": flow_sizes_transformed, \"alloc\": np.array([np.sum(f) for f in flows_mem_trace]), \"diskr\": np.array([np.sum(f) for f in flows_diskr_trace])})\n",
    "dataset_new = pd.DataFrame()\n",
    "for i in range(WINDOW_SIZE + 1):\n",
    "    dataset_new = pd.concat([dataset_new, dataset.shift(i, fill_value=0).rename(columns={'flow': f'flow{i}', 'alloc': f'alloc{i}', 'diskr': f'diskr{i}'})], axis=1) "
   ]
  },
  {
   "cell_type": "code",
   "execution_count": 12,
   "metadata": {},
   "outputs": [],
   "source": [
    "data_train, data_test, label_train, label_test = model_selection.train_test_split(dataset_new, labels, test_size=0.20, random_state=42)"
   ]
  },
  {
   "cell_type": "code",
   "execution_count": 13,
   "metadata": {},
   "outputs": [],
   "source": [
    "model = xgboost.XGBClassifier()"
   ]
  },
  {
   "cell_type": "code",
   "execution_count": 14,
   "metadata": {},
   "outputs": [
    {
     "name": "stderr",
     "output_type": "stream",
     "text": [
      "/home/morteza/anaconda3/envs/torch-test/lib/python3.9/site-packages/xgboost/sklearn.py:1224: UserWarning: The use of label encoder in XGBClassifier is deprecated and will be removed in a future release. To remove this warning, do the following: 1) Pass option use_label_encoder=False when constructing XGBClassifier object; and 2) Encode your labels (y) as integers starting with 0, i.e. 0, 1, 2, ..., [num_class - 1].\n",
      "  warnings.warn(label_encoder_deprecation_msg, UserWarning)\n",
      "/home/morteza/anaconda3/envs/torch-test/lib/python3.9/site-packages/sklearn/preprocessing/_label.py:98: DataConversionWarning: A column-vector y was passed when a 1d array was expected. Please change the shape of y to (n_samples, ), for example using ravel().\n",
      "  y = column_or_1d(y, warn=True)\n",
      "/home/morteza/anaconda3/envs/torch-test/lib/python3.9/site-packages/sklearn/preprocessing/_label.py:133: DataConversionWarning: A column-vector y was passed when a 1d array was expected. Please change the shape of y to (n_samples, ), for example using ravel().\n",
      "  y = column_or_1d(y, warn=True)\n",
      "/home/morteza/anaconda3/envs/torch-test/lib/python3.9/site-packages/xgboost/data.py:262: FutureWarning: pandas.Int64Index is deprecated and will be removed from pandas in a future version. Use pandas.Index with the appropriate dtype instead.\n",
      "  elif isinstance(data.columns, (pd.Int64Index, pd.RangeIndex)):\n"
     ]
    },
    {
     "name": "stdout",
     "output_type": "stream",
     "text": [
      "[16:01:36] WARNING: /home/conda/feedstock_root/build_artifacts/xgboost-split_1645117836726/work/src/learner.cc:1115: Starting in XGBoost 1.3.0, the default evaluation metric used with the objective 'binary:logistic' was changed from 'error' to 'logloss'. Explicitly set eval_metric if you'd like to restore the old behavior.\n"
     ]
    },
    {
     "data": {
      "text/plain": [
       "XGBClassifier(base_score=0.5, booster='gbtree', colsample_bylevel=1,\n",
       "              colsample_bynode=1, colsample_bytree=1, enable_categorical=False,\n",
       "              gamma=0, gpu_id=-1, importance_type=None,\n",
       "              interaction_constraints='', learning_rate=0.300000012,\n",
       "              max_delta_step=0, max_depth=6, min_child_weight=1, missing=nan,\n",
       "              monotone_constraints='()', n_estimators=100, n_jobs=24,\n",
       "              num_parallel_tree=1, predictor='auto', random_state=0,\n",
       "              reg_alpha=0, reg_lambda=1, scale_pos_weight=1, subsample=1,\n",
       "              tree_method='exact', validate_parameters=1, verbosity=None)"
      ]
     },
     "execution_count": 14,
     "metadata": {},
     "output_type": "execute_result"
    }
   ],
   "source": [
    "model.fit(data_train, label_train)"
   ]
  },
  {
   "cell_type": "code",
   "execution_count": 15,
   "metadata": {},
   "outputs": [],
   "source": [
    "pred = np.round(model.predict(data_test))"
   ]
  },
  {
   "cell_type": "code",
   "execution_count": 16,
   "metadata": {},
   "outputs": [
    {
     "name": "stdout",
     "output_type": "stream",
     "text": [
      "Accuracy is:  0.6552513302905972\n"
     ]
    }
   ],
   "source": [
    "print(\"Accuracy is: \", metrics.accuracy_score(label_test, pred))"
   ]
  },
  {
   "cell_type": "code",
   "execution_count": 17,
   "metadata": {},
   "outputs": [
    {
     "data": {
      "image/png": "[encoded data removed]",
      "text/plain": [
       "<Figure size 432x288 with 1 Axes>"
      ]
     },
     "metadata": {
      "needs_background": "light"
     },
     "output_type": "display_data"
    }
   ],
   "source": [
    "xgboost.plot_importance(model)\n",
    "plt.show()"
   ]
  }
 ],
 "metadata": {
  "interpreter": {
   "hash": "2e27e19ca6a05df96a2b941e6f80a39c60cf0d4b0a98b67408d6945db8a91ff3"
  },
  "kernelspec": {
   "display_name": "Python 3.9.4 ('torch-test')",
   "language": "python",
   "name": "python3"
  },
  "language_info": {
   "codemirror_mode": {
    "name": "ipython",
    "version": 3
   },
   "file_extension": ".py",
   "mimetype": "text/x-python",
   "name": "python",
   "nbconvert_exporter": "python",
   "pygments_lexer": "ipython3",
   "version": "3.9.4"
  },
  "orig_nbformat": 4
 },
 "nbformat": 4,
 "nbformat_minor": 2
}
