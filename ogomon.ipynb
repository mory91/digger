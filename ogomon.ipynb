{
 "cells": [
  {
   "cell_type": "code",
   "execution_count": 1,
   "metadata": {},
   "outputs": [],
   "source": [
    "import pandas as pd\n",
    "import numpy as np\n",
    "import matplotlib.pyplot as plt"
   ]
  },
  {
   "cell_type": "code",
   "execution_count": 2,
   "metadata": {},
   "outputs": [],
   "source": [
    "from post_process import *"
   ]
  },
  {
   "cell_type": "code",
   "execution_count": 3,
   "metadata": {},
   "outputs": [],
   "source": [
    "NANO_TO_MICRO = 1000\n",
    "DEFAULT_PREFIX = 'data/5/node-1'\n",
    "\n",
    "TRAIN_PATH = 'train'\n",
    "TEST_PATH = 'test'\n",
    "VALIDATION_PATH = 'validation'\n",
    "\n",
    "NETWORK_OUT = 'network_out'\n",
    "NETWORK_IN = 'network_in'\n",
    "DISK_READ = 'disk_read'\n",
    "DISK_WRITE = 'disk_write'\n",
    "MEMORY = 'memory'\n",
    "FLOW_EXTRACTION_FILE = NETWORK_OUT"
   ]
  },
  {
   "cell_type": "code",
   "execution_count": 4,
   "metadata": {},
   "outputs": [],
   "source": [
    "prefix = DEFAULT_PREFIX"
   ]
  },
  {
   "cell_type": "code",
   "execution_count": 5,
   "metadata": {},
   "outputs": [],
   "source": [
    "trace_names = [MEMORY]\n",
    "\n",
    "path_train = f'{prefix}/{TRAIN_PATH}'\n",
    "path_test = f'{prefix}/{TEST_PATH}'\n",
    "path_validation = f'{prefix}/{VALIDATION_PATH}'\n",
    "\n",
    "\n",
    "flow_trace_train = build_ts(f\"{path_train}/{FLOW_EXTRACTION_FILE}\")\n",
    "train_traces = {}\n",
    "test_traces = {}"
   ]
  },
  {
   "cell_type": "code",
   "execution_count": 6,
   "metadata": {},
   "outputs": [],
   "source": [
    "for trace_name in trace_names:\n",
    "    train_traces[trace_name] = build_ts(f\"{path_train}/{trace_name}\")"
   ]
  },
  {
   "cell_type": "code",
   "execution_count": 7,
   "metadata": {},
   "outputs": [],
   "source": [
    "time_delta = 5000"
   ]
  },
  {
   "cell_type": "code",
   "execution_count": 8,
   "metadata": {},
   "outputs": [],
   "source": [
    "target_prefix = f'nsdi19/data/tmp/{time_delta}'\n",
    "target_test = f'{target_prefix}/test'\n",
    "target_train = f'{target_prefix}/train'\n",
    "\n",
    "train_flows, train_sizes = get_flow(flow_trace_train, time_delta * NANO_TO_MICRO)"
   ]
  },
  {
   "cell_type": "code",
   "execution_count": 9,
   "metadata": {},
   "outputs": [],
   "source": [
    "train_trace_result_in_flow = {'time': train_flows[:, 0], 'flow_size': train_sizes}"
   ]
  },
  {
   "cell_type": "code",
   "execution_count": 10,
   "metadata": {},
   "outputs": [],
   "source": [
    "trace_name = MEMORY\n",
    "result = []\n",
    "this_trace = train_traces[trace_name][:, 0]\n",
    "result.append(np.sum(train_traces[trace_name][np.searchsorted(this_trace, train_flows), 1]))\n",
    "train_trace_result_in_flow[trace_name] = np.array(result)"
   ]
  },
  {
   "cell_type": "code",
   "execution_count": 11,
   "metadata": {},
   "outputs": [],
   "source": [
    "flows = np.searchsorted(this_trace, train_flows)"
   ]
  },
  {
   "cell_type": "code",
   "execution_count": 13,
   "metadata": {},
   "outputs": [],
   "source": [
    "for f in flows:\n",
    "    result.append(np.sum(train_traces[trace_name][slice(*f), 1]))"
   ]
  },
  {
   "cell_type": "code",
   "execution_count": 16,
   "metadata": {},
   "outputs": [
    {
     "data": {
      "text/plain": [
       "(117468,)"
      ]
     },
     "execution_count": 16,
     "metadata": {},
     "output_type": "execute_result"
    }
   ],
   "source": [
    "np.array(result).shape"
   ]
  },
  {
   "cell_type": "code",
   "execution_count": 17,
   "metadata": {},
   "outputs": [
    {
     "data": {
      "text/plain": [
       "(117468,)"
      ]
     },
     "execution_count": 17,
     "metadata": {},
     "output_type": "execute_result"
    }
   ],
   "source": [
    "np.cumsum(result).shape"
   ]
  },
  {
   "cell_type": "code",
   "execution_count": null,
   "metadata": {},
   "outputs": [],
   "source": []
  }
 ],
 "metadata": {
  "interpreter": {
   "hash": "2e27e19ca6a05df96a2b941e6f80a39c60cf0d4b0a98b67408d6945db8a91ff3"
  },
  "kernelspec": {
   "display_name": "Python 3 (ipykernel)",
   "language": "python",
   "name": "python3"
  },
  "language_info": {
   "codemirror_mode": {
    "name": "ipython",
    "version": 3
   },
   "file_extension": ".py",
   "mimetype": "text/x-python",
   "name": "python",
   "nbconvert_exporter": "python",
   "pygments_lexer": "ipython3",
   "version": "3.9.4"
  }
 },
 "nbformat": 4,
 "nbformat_minor": 2
}
