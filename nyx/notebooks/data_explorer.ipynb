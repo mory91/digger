{
 "cells": [
  {
   "cell_type": "code",
   "execution_count": 26,
   "id": "baa15c44",
   "metadata": {},
   "outputs": [],
   "source": [
    "from util import get_packets, get_trace\n",
    "import pandas as pd\n",
    "import numpy as np\n",
    "import matplotlib.pyplot as plt\n",
    "PROCESS = 20\n",
    "RES = 200\n",
    "IPS = [222, 116]\n",
    "MASTER = 222\n",
    "TARGET_IP = 116\n",
    "PACKETS = \"../data/42/morteza/train/packets\"\n",
    "CUDAALLOCS = \"../data/42/morteza/train/cuda_allocations\""
   ]
  },
  {
   "cell_type": "code",
   "execution_count": 31,
   "id": "9faf1f4b",
   "metadata": {},
   "outputs": [],
   "source": [
    "packets = get_packets(PACKETS)\n",
    "allocs = get_trace(CUDAALLOCS, sep='\\t')"
   ]
  },
  {
   "cell_type": "code",
   "execution_count": 32,
   "id": "7437034b",
   "metadata": {},
   "outputs": [
    {
     "data": {
      "text/plain": [
       "60.869140625"
      ]
     },
     "execution_count": 32,
     "metadata": {},
     "output_type": "execute_result"
    }
   ],
   "source": [
    "packets['size'].max()"
   ]
  },
  {
   "cell_type": "code",
   "execution_count": 33,
   "id": "4d22832a",
   "metadata": {},
   "outputs": [],
   "source": [
    "packets = packets[(packets[\"src_ip\"] == MASTER) & (packets[\"dest_ip\"] == TARGET_IP)]"
   ]
  },
  {
   "cell_type": "code",
   "execution_count": 35,
   "id": "9bd26cd1",
   "metadata": {},
   "outputs": [
    {
     "data": {
      "text/html": [
       "<div>\n",
       "<style scoped>\n",
       "    .dataframe tbody tr th:only-of-type {\n",
       "        vertical-align: middle;\n",
       "    }\n",
       "\n",
       "    .dataframe tbody tr th {\n",
       "        vertical-align: top;\n",
       "    }\n",
       "\n",
       "    .dataframe thead th {\n",
       "        text-align: right;\n",
       "    }\n",
       "</style>\n",
       "<table border=\"1\" class=\"dataframe\">\n",
       "  <thead>\n",
       "    <tr style=\"text-align: right;\">\n",
       "      <th></th>\n",
       "      <th>timestamp</th>\n",
       "      <th>size</th>\n",
       "      <th>src_ip</th>\n",
       "      <th>dest_ip</th>\n",
       "      <th>src_port</th>\n",
       "      <th>dest_port</th>\n",
       "      <th>dir</th>\n",
       "    </tr>\n",
       "  </thead>\n",
       "  <tbody>\n",
       "    <tr>\n",
       "      <th>85</th>\n",
       "      <td>6.214514e+06</td>\n",
       "      <td>0.064453</td>\n",
       "      <td>222</td>\n",
       "      <td>116</td>\n",
       "      <td>58889</td>\n",
       "      <td>57160</td>\n",
       "      <td>0</td>\n",
       "    </tr>\n",
       "    <tr>\n",
       "      <th>47</th>\n",
       "      <td>6.214514e+06</td>\n",
       "      <td>0.064453</td>\n",
       "      <td>222</td>\n",
       "      <td>116</td>\n",
       "      <td>58889</td>\n",
       "      <td>57160</td>\n",
       "      <td>0</td>\n",
       "    </tr>\n",
       "    <tr>\n",
       "      <th>200</th>\n",
       "      <td>6.214514e+06</td>\n",
       "      <td>0.064453</td>\n",
       "      <td>222</td>\n",
       "      <td>116</td>\n",
       "      <td>58889</td>\n",
       "      <td>57160</td>\n",
       "      <td>0</td>\n",
       "    </tr>\n",
       "    <tr>\n",
       "      <th>100</th>\n",
       "      <td>6.214514e+06</td>\n",
       "      <td>0.064453</td>\n",
       "      <td>222</td>\n",
       "      <td>116</td>\n",
       "      <td>58889</td>\n",
       "      <td>57160</td>\n",
       "      <td>0</td>\n",
       "    </tr>\n",
       "    <tr>\n",
       "      <th>97</th>\n",
       "      <td>6.214514e+06</td>\n",
       "      <td>0.064453</td>\n",
       "      <td>222</td>\n",
       "      <td>116</td>\n",
       "      <td>58889</td>\n",
       "      <td>57160</td>\n",
       "      <td>0</td>\n",
       "    </tr>\n",
       "    <tr>\n",
       "      <th>...</th>\n",
       "      <td>...</td>\n",
       "      <td>...</td>\n",
       "      <td>...</td>\n",
       "      <td>...</td>\n",
       "      <td>...</td>\n",
       "      <td>...</td>\n",
       "      <td>...</td>\n",
       "    </tr>\n",
       "    <tr>\n",
       "      <th>30749339</th>\n",
       "      <td>6.234195e+06</td>\n",
       "      <td>0.064453</td>\n",
       "      <td>222</td>\n",
       "      <td>116</td>\n",
       "      <td>58889</td>\n",
       "      <td>57160</td>\n",
       "      <td>0</td>\n",
       "    </tr>\n",
       "    <tr>\n",
       "      <th>30751096</th>\n",
       "      <td>6.234195e+06</td>\n",
       "      <td>0.064453</td>\n",
       "      <td>222</td>\n",
       "      <td>116</td>\n",
       "      <td>58889</td>\n",
       "      <td>57160</td>\n",
       "      <td>0</td>\n",
       "    </tr>\n",
       "    <tr>\n",
       "      <th>30751987</th>\n",
       "      <td>6.234195e+06</td>\n",
       "      <td>0.064453</td>\n",
       "      <td>222</td>\n",
       "      <td>116</td>\n",
       "      <td>58889</td>\n",
       "      <td>57160</td>\n",
       "      <td>0</td>\n",
       "    </tr>\n",
       "    <tr>\n",
       "      <th>30751207</th>\n",
       "      <td>6.234201e+06</td>\n",
       "      <td>0.064453</td>\n",
       "      <td>222</td>\n",
       "      <td>116</td>\n",
       "      <td>58889</td>\n",
       "      <td>57160</td>\n",
       "      <td>0</td>\n",
       "    </tr>\n",
       "    <tr>\n",
       "      <th>30750923</th>\n",
       "      <td>6.234201e+06</td>\n",
       "      <td>0.064453</td>\n",
       "      <td>222</td>\n",
       "      <td>116</td>\n",
       "      <td>58889</td>\n",
       "      <td>57160</td>\n",
       "      <td>0</td>\n",
       "    </tr>\n",
       "  </tbody>\n",
       "</table>\n",
       "<p>2416814 rows × 7 columns</p>\n",
       "</div>"
      ],
      "text/plain": [
       "             timestamp      size  src_ip  dest_ip  src_port  dest_port  dir\n",
       "85        6.214514e+06  0.064453     222      116     58889      57160    0\n",
       "47        6.214514e+06  0.064453     222      116     58889      57160    0\n",
       "200       6.214514e+06  0.064453     222      116     58889      57160    0\n",
       "100       6.214514e+06  0.064453     222      116     58889      57160    0\n",
       "97        6.214514e+06  0.064453     222      116     58889      57160    0\n",
       "...                ...       ...     ...      ...       ...        ...  ...\n",
       "30749339  6.234195e+06  0.064453     222      116     58889      57160    0\n",
       "30751096  6.234195e+06  0.064453     222      116     58889      57160    0\n",
       "30751987  6.234195e+06  0.064453     222      116     58889      57160    0\n",
       "30751207  6.234201e+06  0.064453     222      116     58889      57160    0\n",
       "30750923  6.234201e+06  0.064453     222      116     58889      57160    0\n",
       "\n",
       "[2416814 rows x 7 columns]"
      ]
     },
     "execution_count": 35,
     "metadata": {},
     "output_type": "execute_result"
    }
   ],
   "source": [
    "packets[(packets[\"src_port\"] == 58889) & (packets[\"dest_port\"] == 57160)]"
   ]
  },
  {
   "cell_type": "code",
   "execution_count": 34,
   "id": "de0682a1",
   "metadata": {},
   "outputs": [
    {
     "data": {
      "text/plain": [
       "array([[34276,    22],\n",
       "       [40862, 54243],\n",
       "       [44453, 58816],\n",
       "       [54820, 49093],\n",
       "       [58889, 57160]])"
      ]
     },
     "execution_count": 34,
     "metadata": {},
     "output_type": "execute_result"
    }
   ],
   "source": [
    "np.unique(packets[[\"src_port\", \"dest_port\"]].values, axis=0)"
   ]
  },
  {
   "cell_type": "code",
   "execution_count": 13,
   "id": "ee635b47",
   "metadata": {},
   "outputs": [],
   "source": [
    "packets = packets[(packets[\"src_port\"] != 443) & (packets[\"dest_port\"] != 443)]"
   ]
  },
  {
   "cell_type": "code",
   "execution_count": 15,
   "id": "232e18ed",
   "metadata": {},
   "outputs": [
    {
     "data": {
      "text/plain": [
       "(11128082, 7)"
      ]
     },
     "execution_count": 15,
     "metadata": {},
     "output_type": "execute_result"
    }
   ],
   "source": [
    "packets.shape"
   ]
  },
  {
   "cell_type": "code",
   "execution_count": 8,
   "id": "0b4e80bc",
   "metadata": {},
   "outputs": [
    {
     "data": {
      "text/html": [
       "<div>\n",
       "<style scoped>\n",
       "    .dataframe tbody tr th:only-of-type {\n",
       "        vertical-align: middle;\n",
       "    }\n",
       "\n",
       "    .dataframe tbody tr th {\n",
       "        vertical-align: top;\n",
       "    }\n",
       "\n",
       "    .dataframe thead th {\n",
       "        text-align: right;\n",
       "    }\n",
       "</style>\n",
       "<table border=\"1\" class=\"dataframe\">\n",
       "  <thead>\n",
       "    <tr style=\"text-align: right;\">\n",
       "      <th></th>\n",
       "      <th>timestamp</th>\n",
       "      <th>size</th>\n",
       "    </tr>\n",
       "  </thead>\n",
       "  <tbody>\n",
       "    <tr>\n",
       "      <th>0</th>\n",
       "      <td>0.000000</td>\n",
       "      <td>0.25000</td>\n",
       "    </tr>\n",
       "    <tr>\n",
       "      <th>1</th>\n",
       "      <td>947263.163099</td>\n",
       "      <td>1.06250</td>\n",
       "    </tr>\n",
       "    <tr>\n",
       "      <th>2</th>\n",
       "      <td>947263.163614</td>\n",
       "      <td>142.34375</td>\n",
       "    </tr>\n",
       "    <tr>\n",
       "      <th>3</th>\n",
       "      <td>947263.164292</td>\n",
       "      <td>126.43750</td>\n",
       "    </tr>\n",
       "    <tr>\n",
       "      <th>4</th>\n",
       "      <td>947263.165047</td>\n",
       "      <td>113.81250</td>\n",
       "    </tr>\n",
       "    <tr>\n",
       "      <th>...</th>\n",
       "      <td>...</td>\n",
       "      <td>...</td>\n",
       "    </tr>\n",
       "    <tr>\n",
       "      <th>8294259</th>\n",
       "      <td>987036.690186</td>\n",
       "      <td>81.12500</td>\n",
       "    </tr>\n",
       "    <tr>\n",
       "      <th>8294260</th>\n",
       "      <td>987036.690698</td>\n",
       "      <td>120.18750</td>\n",
       "    </tr>\n",
       "    <tr>\n",
       "      <th>8294261</th>\n",
       "      <td>987036.691480</td>\n",
       "      <td>117.93750</td>\n",
       "    </tr>\n",
       "    <tr>\n",
       "      <th>8294262</th>\n",
       "      <td>987036.691982</td>\n",
       "      <td>116.68750</td>\n",
       "    </tr>\n",
       "    <tr>\n",
       "      <th>8294263</th>\n",
       "      <td>987036.692729</td>\n",
       "      <td>115.43750</td>\n",
       "    </tr>\n",
       "  </tbody>\n",
       "</table>\n",
       "<p>8294264 rows × 2 columns</p>\n",
       "</div>"
      ],
      "text/plain": [
       "             timestamp       size\n",
       "0             0.000000    0.25000\n",
       "1        947263.163099    1.06250\n",
       "2        947263.163614  142.34375\n",
       "3        947263.164292  126.43750\n",
       "4        947263.165047  113.81250\n",
       "...                ...        ...\n",
       "8294259  987036.690186   81.12500\n",
       "8294260  987036.690698  120.18750\n",
       "8294261  987036.691480  117.93750\n",
       "8294262  987036.691982  116.68750\n",
       "8294263  987036.692729  115.43750\n",
       "\n",
       "[8294264 rows x 2 columns]"
      ]
     },
     "execution_count": 8,
     "metadata": {},
     "output_type": "execute_result"
    }
   ],
   "source": [
    "allocs"
   ]
  },
  {
   "cell_type": "code",
   "execution_count": 10,
   "id": "0da18f7f",
   "metadata": {},
   "outputs": [
    {
     "data": {
      "text/plain": [
       "0          5.435720e+06\n",
       "1          5.435720e+06\n",
       "2          5.435720e+06\n",
       "3          5.435720e+06\n",
       "4          5.435720e+06\n",
       "               ...     \n",
       "1580886    5.448553e+06\n",
       "1580887    5.448553e+06\n",
       "1580888    5.448553e+06\n",
       "1580889    5.448553e+06\n",
       "1580890    5.448553e+06\n",
       "Name: timestamp, Length: 1580891, dtype: float64"
      ]
     },
     "execution_count": 10,
     "metadata": {},
     "output_type": "execute_result"
    }
   ],
   "source": [
    "allocs[\"timestamp\"]"
   ]
  }
 ],
 "metadata": {
  "kernelspec": {
   "display_name": "Python 3 (ipykernel)",
   "language": "python",
   "name": "python3"
  },
  "language_info": {
   "codemirror_mode": {
    "name": "ipython",
    "version": 3
   },
   "file_extension": ".py",
   "mimetype": "text/x-python",
   "name": "python",
   "nbconvert_exporter": "python",
   "pygments_lexer": "ipython3",
   "version": "3.10.4"
  }
 },
 "nbformat": 4,
 "nbformat_minor": 5
}
