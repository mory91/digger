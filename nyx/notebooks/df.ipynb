{
 "cells": [
  {
   "cell_type": "code",
   "execution_count": 51,
   "id": "ddb2e65d",
   "metadata": {},
   "outputs": [],
   "source": [
    "df = pd.read_csv('../../data/1/node-3/packets', header=None, names=['timestamp', 'size', 'src_ip', 'dest_ip', 'src_port', 'dest_port'])\n",
    "df['timestamp'] = df['timestamp'] - df['timestamp'].min()\n",
    "df['timestamp'] = df['timestamp'] / 1000000\n",
    "df = df.sort_values(by='timestamp')"
   ]
  },
  {
   "cell_type": "code",
   "execution_count": 9,
   "id": "831494a4",
   "metadata": {},
   "outputs": [],
   "source": [
    "df.to_csv('x.csv', index=None, header=None)"
   ]
  },
  {
   "cell_type": "code",
   "execution_count": 7,
   "id": "65ce93b7",
   "metadata": {},
   "outputs": [],
   "source": [
    "import csv\n",
    "import numpy as np\n",
    "import pandas as pd"
   ]
  },
  {
   "cell_type": "code",
   "execution_count": 8,
   "id": "bcb8cff8",
   "metadata": {},
   "outputs": [],
   "source": [
    "def gett(x):\n",
    "    m, s = map(float, x[16:-4].split(':'))\n",
    "    return ((m * 60) + s) * 1000000\n",
    "df = pd.read_csv('../../data/pcaps/filtered_2.csv', quoting=csv.QUOTE_ALL, header=None, names=['timestamp', 'size', 'src_ip', 'dest_ip', 'src_port', 'dest_port'])\n",
    "df = df[['timestamp', 'size']]\n",
    "df['timestamp'] = df['timestamp'].apply(gett)\n",
    "df['timestamp'] = df['timestamp'] - df['timestamp'].min()"
   ]
  },
  {
   "cell_type": "code",
   "execution_count": 5,
   "id": "ee00df71",
   "metadata": {},
   "outputs": [],
   "source": [
    "df = pd.read_csv('../../data/pcaps/filtered_2.csv', quoting=csv.QUOTE_ALL, header=None, names=['timestamp', 'size', 'src_ip', 'dest_ip', 'src_port', 'dest_port'])\n"
   ]
  },
  {
   "cell_type": "code",
   "execution_count": 10,
   "id": "048d4fc5",
   "metadata": {},
   "outputs": [],
   "source": [
    "df.to_csv('x.csv', index=None, header=None)"
   ]
  },
  {
   "cell_type": "code",
   "execution_count": 11,
   "id": "45b1b3e0",
   "metadata": {},
   "outputs": [
    {
     "data": {
      "text/html": [
       "<div>\n",
       "<style scoped>\n",
       "    .dataframe tbody tr th:only-of-type {\n",
       "        vertical-align: middle;\n",
       "    }\n",
       "\n",
       "    .dataframe tbody tr th {\n",
       "        vertical-align: top;\n",
       "    }\n",
       "\n",
       "    .dataframe thead th {\n",
       "        text-align: right;\n",
       "    }\n",
       "</style>\n",
       "<table border=\"1\" class=\"dataframe\">\n",
       "  <thead>\n",
       "    <tr style=\"text-align: right;\">\n",
       "      <th></th>\n",
       "      <th>timestamp</th>\n",
       "      <th>size</th>\n",
       "    </tr>\n",
       "  </thead>\n",
       "  <tbody>\n",
       "    <tr>\n",
       "      <th>0</th>\n",
       "      <td>0.000000e+00</td>\n",
       "      <td>78</td>\n",
       "    </tr>\n",
       "    <tr>\n",
       "      <th>1</th>\n",
       "      <td>1.000409e+06</td>\n",
       "      <td>78</td>\n",
       "    </tr>\n",
       "    <tr>\n",
       "      <th>2</th>\n",
       "      <td>2.000889e+06</td>\n",
       "      <td>78</td>\n",
       "    </tr>\n",
       "    <tr>\n",
       "      <th>3</th>\n",
       "      <td>3.001289e+06</td>\n",
       "      <td>78</td>\n",
       "    </tr>\n",
       "    <tr>\n",
       "      <th>4</th>\n",
       "      <td>4.001743e+06</td>\n",
       "      <td>78</td>\n",
       "    </tr>\n",
       "    <tr>\n",
       "      <th>...</th>\n",
       "      <td>...</td>\n",
       "      <td>...</td>\n",
       "    </tr>\n",
       "    <tr>\n",
       "      <th>900332</th>\n",
       "      <td>1.481172e+08</td>\n",
       "      <td>78</td>\n",
       "    </tr>\n",
       "    <tr>\n",
       "      <th>900333</th>\n",
       "      <td>1.491177e+08</td>\n",
       "      <td>78</td>\n",
       "    </tr>\n",
       "    <tr>\n",
       "      <th>900334</th>\n",
       "      <td>1.501183e+08</td>\n",
       "      <td>78</td>\n",
       "    </tr>\n",
       "    <tr>\n",
       "      <th>900335</th>\n",
       "      <td>1.511188e+08</td>\n",
       "      <td>78</td>\n",
       "    </tr>\n",
       "    <tr>\n",
       "      <th>900336</th>\n",
       "      <td>1.521192e+08</td>\n",
       "      <td>78</td>\n",
       "    </tr>\n",
       "  </tbody>\n",
       "</table>\n",
       "<p>900337 rows × 2 columns</p>\n",
       "</div>"
      ],
      "text/plain": [
       "           timestamp  size\n",
       "0       0.000000e+00    78\n",
       "1       1.000409e+06    78\n",
       "2       2.000889e+06    78\n",
       "3       3.001289e+06    78\n",
       "4       4.001743e+06    78\n",
       "...              ...   ...\n",
       "900332  1.481172e+08    78\n",
       "900333  1.491177e+08    78\n",
       "900334  1.501183e+08    78\n",
       "900335  1.511188e+08    78\n",
       "900336  1.521192e+08    78\n",
       "\n",
       "[900337 rows x 2 columns]"
      ]
     },
     "execution_count": 11,
     "metadata": {},
     "output_type": "execute_result"
    }
   ],
   "source": [
    "df"
   ]
  },
  {
   "cell_type": "code",
   "execution_count": 3,
   "id": "9a97d09f",
   "metadata": {},
   "outputs": [
    {
     "name": "stderr",
     "output_type": "stream",
     "text": [
      "\n",
      "KeyboardInterrupt\n",
      "\n"
     ]
    }
   ],
   "source": [
    "RES = 100 # Micro Seconds\n",
    "ts = df['timestamp'].values\n",
    "vals = df['size'].values\n",
    "x, y = [], []\n",
    "start, end = ts[0], ts[-1]\n",
    "starti, endi = start, start + RES\n",
    "while starti < end:\n",
    "    in_ts = np.argwhere((starti <= ts) & (ts <= endi))\n",
    "    x.append(starti)\n",
    "    if len(in_ts) > 1:\n",
    "        new_s, new_end = in_ts[0][0], in_ts[-1][0]\n",
    "        y.append(np.sum(vals[new_s:new_end]))\n",
    "    else:\n",
    "        y.append(0)\n",
    "    starti, endi = starti + RES, endi + RES\n",
    "x, y = np.array(x), np.array(y)"
   ]
  }
 ],
 "metadata": {
  "kernelspec": {
   "display_name": "Python 3 (ipykernel)",
   "language": "python",
   "name": "python3"
  },
  "language_info": {
   "codemirror_mode": {
    "name": "ipython",
    "version": 3
   },
   "file_extension": ".py",
   "mimetype": "text/x-python",
   "name": "python",
   "nbconvert_exporter": "python",
   "pygments_lexer": "ipython3",
   "version": "3.10.4"
  }
 },
 "nbformat": 4,
 "nbformat_minor": 5
}
