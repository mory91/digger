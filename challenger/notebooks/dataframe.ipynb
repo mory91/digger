{
 "cells": [
  {
   "cell_type": "code",
   "execution_count": 1,
   "id": "8811ea85",
   "metadata": {},
   "outputs": [],
   "source": [
    "%load_ext autoreload\n",
    "%autoreload 2"
   ]
  },
  {
   "cell_type": "code",
   "execution_count": 2,
   "id": "5152a852",
   "metadata": {},
   "outputs": [],
   "source": [
    "import pandas as pd\n",
    "import numpy as np\n",
    "import os\n",
    "import sys\n",
    "module_path = os.path.abspath(os.path.join('..'))\n",
    "if module_path not in sys.path:\n",
    "    sys.path.append(module_path)"
   ]
  },
  {
   "cell_type": "code",
   "execution_count": 1,
   "id": "db6c3965",
   "metadata": {},
   "outputs": [],
   "source": [
    "netwrok_trace_type_mapping = {\n",
    "    'timestamp': (1, 'Int64'),\n",
    "    'size': (2, 'Int32'),\n",
    "    'src_ip': (3, 'Int16'),\n",
    "    'dest_ip': (4, 'Int16'),\n",
    "    'src_port': (5, 'Int32'),\n",
    "    'dest_port': (6, 'Int32'),\n",
    "}\n",
    "REGRESSION = 0\n",
    "CLASSIFICATION = 1\n",
    "B = 1\n",
    "MB = 1024 * 1024\n",
    "KB = 1024\n",
    "GB = 1024 * 1024 * 1024\n",
    "NANO_TO_MICRO = 1000\n",
    "PACKETS = \"packets\"\n",
    "SENDS = \"sends\"\n",
    "ALLOCS = \"cpu_allocations\"\n",
    "DISK_READS = \"disk_read\"\n",
    "DISK_WRITES = \"disk_write\"\n",
    "VIRTUAL_MEMORY = \"memory\"\n",
    "RSS_MEMORY = \"rss_memory\"\n",
    "DATA_MEMORY = \"data_memory\"\n",
    "S_TIME = \"s_time\"\n",
    "U_TIME = \"u_time\"\n",
    "START_TIME = 'start_time'\n",
    "END_TIME = 'end_time'\n",
    "SIZE = 'size'\n",
    "GAP = 'gap'\n",
    "NETWORK_IN = 'networkin'\n",
    "NETWORK_OUT = 'networkout'\n",
    "NODE_1 = 237\n",
    "NODE_2 = 229\n",
    "NODE_3 = 212\n",
    "NODE_4 = 144\n",
    "MASTER = NODE_1\n",
    "TARGET_IP = NODE_4\n",
    "SGD_PREFIX = \"../../data/4/node-1\"\n",
    "NSDI_FEATURES = [SENDS, DISK_READS, DISK_WRITES, VIRTUAL_MEMORY, S_TIME, START_TIME, END_TIME, GAP, NETWORK_IN, SIZE, NETWORK_OUT]\n",
    "ALL_FEATURES = NSDI_FEATURES + [ALLOCS, RSS_MEMORY, DATA_MEMORY, U_TIME]\n"
   ]
  },
  {
   "cell_type": "code",
   "execution_count": 4,
   "id": "d4de4302",
   "metadata": {},
   "outputs": [],
   "source": [
    "def force_to_type(df, names, dtype):\n",
    "    df[names] = df[names].apply(pandas.to_numeric, errors='coerce')\n",
    "    df = df.astype(dtype)\n",
    "    df = df.dropna()\n",
    "    return df"
   ]
  },
  {
   "cell_type": "code",
   "execution_count": 5,
   "id": "9020e331",
   "metadata": {},
   "outputs": [],
   "source": [
    "source_ip, destination_ip = MASTER, TARGET_IP\n",
    "names = sorted(list(netwrok_trace_type_mapping.keys()), key=lambda x: netwrok_trace_type_mapping[x][0])\n",
    "df = pd.read_csv(f\"{SGD_PREFIX}/packets\", header=None, index_col=False, names=names, sep=',', on_bad_lines='skip')\n",
    "df = df[\n",
    "    df['src_ip'].isin([source_ip, destination_ip]) &\n",
    "    df['dest_ip'].isin([source_ip, destination_ip])\n",
    "]\n",
    "df = df.sort_values(by='timestamp')"
   ]
  },
  {
   "cell_type": "code",
   "execution_count": 6,
   "id": "dd10acdd",
   "metadata": {},
   "outputs": [],
   "source": [
    "def get_flow_idx(packets_df, time_delta, s_ip, d_ip, s_p, d_p):\n",
    "    trace = packets_df.values\n",
    "    time_stamp = trace[:, 0]\n",
    "    value_trace = trace[:, 1]\n",
    "    time_stamp_next = np.roll(time_stamp, -1)\n",
    "    diffs = (time_stamp_next - time_stamp)\n",
    "    diffs_high = np.argwhere(diffs > time_delta).squeeze()\n",
    "    diffs_high_rolled = np.roll(diffs_high, -1).squeeze()\n",
    "    return np.column_stack((diffs_high, diffs_high_rolled))[:-1], time_stamp, value_trace\n",
    "\n",
    "def get_flow_sizes(ff, v):\n",
    "    return np.array(\n",
    "        [np.sum(v[slice(*f)]) for f in ff]\n",
    "    )\n",
    "\n",
    "def get_flow_times(f, t):\n",
    "    return np.column_stack(\n",
    "        (t[f[:, 0]],\n",
    "         t[f[:, 1] - 1])\n",
    "    )\n",
    "\n",
    "def get_flow_gaps(t):\n",
    "    return np.roll(\n",
    "        np.roll(t[:, 0], -1) - t[:, 1], 1\n",
    "    )"
   ]
  },
  {
   "cell_type": "code",
   "execution_count": 7,
   "id": "1ffb122b",
   "metadata": {},
   "outputs": [
    {
     "name": "stdout",
     "output_type": "stream",
     "text": [
      "53694 2225\n",
      "2222 58374\n"
     ]
    }
   ],
   "source": [
    "s_ip = MASTER\n",
    "d_ip = TARGET_IP\n",
    "df = df[(df['src_ip'] == s_ip) & (df['dest_ip'] == d_ip)]\n",
    "ports = list(set(map(tuple, df[['src_port', 'dest_port']].values)))\n",
    "flows = []\n",
    "for sp, dp in ports:\n",
    "    print(sp, dp)\n",
    "    flow_idx, time_stamp, value_trace = get_flow_idx(df, 500 * NANO_TO_MICRO, MASTER, TARGET_IP, sp, dp)\n",
    "    flow_times = get_flow_times(flow_idx, time_stamp)\n",
    "    flow_sizes = get_flow_sizes(flow_idx, value_trace)\n",
    "    flow_gaps = get_flow_gaps(flow_times)\n",
    "    flows.append(pd.DataFrame({'start_time': flow_times[:, 0], 'end_time': flow_times[:, 0], 'size': flow_sizes, 'gap': flow_gaps}))"
   ]
  },
  {
   "cell_type": "code",
   "execution_count": 8,
   "id": "a1fe575a",
   "metadata": {},
   "outputs": [],
   "source": [
    "flows_pd = pd.concat(flows, ignore_index=True).sort_values(by='start_time')[:20000]"
   ]
  },
  {
   "cell_type": "code",
   "execution_count": 9,
   "id": "2ea45bb8",
   "metadata": {},
   "outputs": [
    {
     "data": {
      "text/plain": [
       "20000"
      ]
     },
     "execution_count": 9,
     "metadata": {},
     "output_type": "execute_result"
    }
   ],
   "source": [
    "len(flows_pd)"
   ]
  },
  {
   "cell_type": "code",
   "execution_count": 10,
   "id": "bc368ee9",
   "metadata": {},
   "outputs": [
    {
     "data": {
      "text/plain": [
       "{'train': {'mse': 3.2868984211513617e-05,\n",
       "  'mae': 0.002220623993855103,\n",
       "  'r2': 0.9784388778325026},\n",
       " 'test': {'mse': 0.0006906998899660411,\n",
       "  'mae': 0.005239354647428278,\n",
       "  'r2': 0.3603799544847288}}"
      ]
     },
     "execution_count": 10,
     "metadata": {},
     "output_type": "execute_result"
    }
   ],
   "source": [
    "from model.flux import FluxRegression\n",
    "FluxRegression(flows_pd).train()"
   ]
  }
 ],
 "metadata": {
  "kernelspec": {
   "display_name": "Python 3 (ipykernel)",
   "language": "python",
   "name": "python3"
  },
  "language_info": {
   "codemirror_mode": {
    "name": "ipython",
    "version": 3
   },
   "file_extension": ".py",
   "mimetype": "text/x-python",
   "name": "python",
   "nbconvert_exporter": "python",
   "pygments_lexer": "ipython3",
   "version": "3.10.4"
  }
 },
 "nbformat": 4,
 "nbformat_minor": 5
}
