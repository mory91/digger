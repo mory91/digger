{
 "cells": [
  {
   "cell_type": "code",
   "execution_count": 1,
   "id": "99e9fe47",
   "metadata": {},
   "outputs": [],
   "source": [
    "%load_ext autoreload\n",
    "%autoreload 2"
   ]
  },
  {
   "cell_type": "code",
   "execution_count": 2,
   "id": "c6b300df",
   "metadata": {},
   "outputs": [],
   "source": [
    "import pandas as pd\n",
    "import numpy as np\n",
    "import os\n",
    "import sys\n",
    "module_path = os.path.abspath(os.path.join('..'))\n",
    "if module_path not in sys.path:\n",
    "    sys.path.append(module_path)"
   ]
  },
  {
   "cell_type": "code",
   "execution_count": 3,
   "id": "0e53e849",
   "metadata": {},
   "outputs": [],
   "source": [
    "from constants import *"
   ]
  },
  {
   "cell_type": "code",
   "execution_count": 4,
   "id": "3cc5c125",
   "metadata": {},
   "outputs": [],
   "source": [
    "NODE_1 = 237\n",
    "NODE_2 = 229\n",
    "NODE_3 = 212\n",
    "NODE_4 = 144\n",
    "\n",
    "ME = NODE_1\n",
    "OTHERS = [NODE_2, NODE_3, NODE_4]"
   ]
  },
  {
   "cell_type": "code",
   "execution_count": 5,
   "id": "eaceee26",
   "metadata": {},
   "outputs": [],
   "source": [
    "PREFIX = \"../../data/10\"\n",
    "NODE = \"4\"\n",
    "PACKETS = f\"{PREFIX}/node-{NODE}/packets\""
   ]
  },
  {
   "cell_type": "code",
   "execution_count": 6,
   "id": "8c1a4d65",
   "metadata": {},
   "outputs": [],
   "source": [
    "netwrok_trace_type_mapping = {\n",
    "    'timestamp': (1, 'Int64'),\n",
    "    'size': (2, 'Int32'),\n",
    "    'src_ip': (3, 'Int16'),\n",
    "    'dest_ip': (4, 'Int16'),\n",
    "    'src_port': (5, 'Int32'),\n",
    "    'dest_port': (6, 'Int32'),\n",
    "}"
   ]
  },
  {
   "cell_type": "code",
   "execution_count": 7,
   "id": "d80f499d",
   "metadata": {},
   "outputs": [],
   "source": [
    "def reload_df(f):\n",
    "    flows_df = pd.read_csv(f, index_col=False)\n",
    "    cols = flows_df.columns\n",
    "    flows_df[cols] = flows_df[cols].apply(pd.to_numeric, errors='coerce')\n",
    "    flows_df = flows_df.dropna()\n",
    "    return flows_df"
   ]
  },
  {
   "cell_type": "code",
   "execution_count": 8,
   "id": "e9a5ad2a",
   "metadata": {},
   "outputs": [],
   "source": [
    "packets_df = pd.read_csv(f\"{PREFIX}/node-{NODE}/packets\", header=None, index_col=False, names=netwrok_trace_type_mapping.keys(), sep=',', on_bad_lines='skip')"
   ]
  },
  {
   "cell_type": "code",
   "execution_count": 9,
   "id": "16dfc458",
   "metadata": {},
   "outputs": [],
   "source": [
    "packets_df = packets_df[(packets_df['src_ip'] == NODE_4) & (packets_df['dest_ip'].isin([NODE_1]))].sort_values(by='timestamp')\n",
    "packets_df['timestamp'] = packets_df['timestamp'] - packets_df['timestamp'].min()\n",
    "packets = packets_df[['timestamp', 'size']].values\n",
    "start, end = packets_df['timestamp'].min(), packets_df['timestamp'].max()\n",
    "step = 500 * NANO_TO_MICRO\n",
    "steps_begin = np.arange(start, end, step)\n",
    "steps_end = steps_begin + step\n",
    "s = np.clip(np.searchsorted(steps_begin, packets[:, 0]), 0, len(steps_begin) - 1)"
   ]
  },
  {
   "cell_type": "code",
   "execution_count": 10,
   "id": "208e229a",
   "metadata": {},
   "outputs": [],
   "source": [
    "s1 = np.clip(np.searchsorted(packets[:, 0], steps_begin), 0, len(packets) - 1)\n",
    "s2 = np.clip(np.searchsorted(packets[:, 0], steps_end), 0, len(packets) - 1)\n",
    "sizecsum = np.insert(np.cumsum(packets[:, 1]), 0, 0)\n",
    "vals = sizecsum[s2] - sizecsum[s1]\n",
    "#vals[0] = sizecsum[(s2 - 1)[0]] - 0"
   ]
  },
  {
   "cell_type": "code",
   "execution_count": 11,
   "id": "fd3d087f",
   "metadata": {},
   "outputs": [],
   "source": [
    "last_step = steps_end[-1]"
   ]
  },
  {
   "cell_type": "code",
   "execution_count": 25,
   "id": "89361cf5",
   "metadata": {},
   "outputs": [
    {
     "data": {
      "text/plain": [
       "array([ 87, 239,  66,  87, 239], dtype=int64)"
      ]
     },
     "execution_count": 25,
     "metadata": {},
     "output_type": "execute_result"
    }
   ],
   "source": [
    "packets[:, 1][:5]"
   ]
  },
  {
   "cell_type": "code",
   "execution_count": 24,
   "id": "1a132858",
   "metadata": {},
   "outputs": [
    {
     "data": {
      "text/plain": [
       "array([       0,    36210,  3650174, 11936047, 11996534], dtype=int64)"
      ]
     },
     "execution_count": 24,
     "metadata": {},
     "output_type": "execute_result"
    }
   ],
   "source": [
    "packets[:, 0][:5]"
   ]
  },
  {
   "cell_type": "code",
   "execution_count": 26,
   "id": "1bfedee8",
   "metadata": {},
   "outputs": [
    {
     "data": {
      "text/plain": [
       "3500000"
      ]
     },
     "execution_count": 26,
     "metadata": {},
     "output_type": "execute_result"
    }
   ],
   "source": [
    "steps_begin[7]"
   ]
  },
  {
   "cell_type": "code",
   "execution_count": 27,
   "id": "b7bdf051",
   "metadata": {},
   "outputs": [
    {
     "data": {
      "text/plain": [
       "4000000"
      ]
     },
     "execution_count": 27,
     "metadata": {},
     "output_type": "execute_result"
    }
   ],
   "source": [
    "steps_end[7]"
   ]
  },
  {
   "cell_type": "code",
   "execution_count": 16,
   "id": "9f4c8f32",
   "metadata": {},
   "outputs": [
    {
     "data": {
      "text/plain": [
       "array([      2,       2,       2, ..., 7918846, 7918846, 7918847])"
      ]
     },
     "execution_count": 16,
     "metadata": {},
     "output_type": "execute_result"
    }
   ],
   "source": [
    "s2"
   ]
  },
  {
   "cell_type": "code",
   "execution_count": 17,
   "id": "44bcfc98",
   "metadata": {},
   "outputs": [
    {
     "data": {
      "text/plain": [
       "array([      0,       2,       2, ..., 7918846, 7918846, 7918846])"
      ]
     },
     "execution_count": 17,
     "metadata": {},
     "output_type": "execute_result"
    }
   ],
   "source": [
    "s1"
   ]
  },
  {
   "cell_type": "code",
   "execution_count": 20,
   "id": "59c708f4",
   "metadata": {},
   "outputs": [
    {
     "data": {
      "text/plain": [
       "array([[       0],\n",
       "       [       7],\n",
       "       [      23],\n",
       "       ...,\n",
       "       [27815396],\n",
       "       [27815397],\n",
       "       [27815401]])"
      ]
     },
     "execution_count": 20,
     "metadata": {},
     "output_type": "execute_result"
    }
   ],
   "source": [
    "np.argwhere(vals > 0)"
   ]
  },
  {
   "cell_type": "code",
   "execution_count": 21,
   "id": "f61b5571",
   "metadata": {},
   "outputs": [
    {
     "data": {
      "text/plain": [
       "(3, 2)"
      ]
     },
     "execution_count": 21,
     "metadata": {},
     "output_type": "execute_result"
    }
   ],
   "source": [
    "s2[7], s1[7]"
   ]
  },
  {
   "cell_type": "code",
   "execution_count": 28,
   "id": "f05852d8",
   "metadata": {},
   "outputs": [
    {
     "data": {
      "text/plain": [
       "66"
      ]
     },
     "execution_count": 28,
     "metadata": {},
     "output_type": "execute_result"
    }
   ],
   "source": [
    "vals[7]"
   ]
  },
  {
   "cell_type": "code",
   "execution_count": null,
   "id": "13744380",
   "metadata": {},
   "outputs": [],
   "source": []
  }
 ],
 "metadata": {
  "kernelspec": {
   "display_name": "Python 3 (ipykernel)",
   "language": "python",
   "name": "python3"
  },
  "language_info": {
   "codemirror_mode": {
    "name": "ipython",
    "version": 3
   },
   "file_extension": ".py",
   "mimetype": "text/x-python",
   "name": "python",
   "nbconvert_exporter": "python",
   "pygments_lexer": "ipython3",
   "version": "3.10.4"
  }
 },
 "nbformat": 4,
 "nbformat_minor": 5
}
